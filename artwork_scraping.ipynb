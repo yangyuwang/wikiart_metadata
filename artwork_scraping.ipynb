{
 "cells": [
  {
   "cell_type": "markdown",
   "metadata": {},
   "source": [
    "# Scraping artworks on wikiart by Selenium\n",
    "\n",
    "### Author: Yangyu Wang\n",
    "### Date: Jan 18, 2025"
   ]
  },
  {
   "cell_type": "code",
   "execution_count": 1,
   "metadata": {},
   "outputs": [],
   "source": [
    "import pandas as pd\n",
    "import csv\n",
    "from selenium import webdriver\n",
    "from selenium.webdriver.common.by import By\n",
    "from selenium.webdriver.support.ui import WebDriverWait\n",
    "from selenium.webdriver.support import expected_conditions as EC\n",
    "import requests"
   ]
  },
  {
   "cell_type": "code",
   "execution_count": 2,
   "metadata": {},
   "outputs": [
    {
     "name": "stderr",
     "output_type": "stream",
     "text": [
      "The geckodriver version (0.34.0) detected in PATH at /usr/local/bin/geckodriver might not be compatible with the detected firefox version (134.0.1); currently, geckodriver 0.35.0 is recommended for firefox 134.*, so it is advised to delete the driver in PATH and retry\n"
     ]
    }
   ],
   "source": [
    "driver = webdriver.Firefox()"
   ]
  },
  {
   "cell_type": "code",
   "execution_count": 3,
   "metadata": {},
   "outputs": [],
   "source": [
    "def extract_artworkinfo(url):\n",
    "\n",
    "    driver.get(url)\n",
    "\n",
    "    artwork_info = {\"url\": url}\n",
    "    \n",
    "    try:\n",
    "        WebDriverWait(driver, 3).until(\n",
    "            EC.presence_of_element_located((By.TAG_NAME, \"h3\"))\n",
    "        )\n",
    "    except:\n",
    "        print(\"Error (404):\", url)\n",
    "        return url\n",
    "\n",
    "    try:\n",
    "        birth_date_element = driver.find_element(By.CSS_SELECTOR, 'span[itemprop=\"dateCreated\"]')\n",
    "        artwork_info[\"Create Date\"] = birth_date_element.text.strip()\n",
    "    except:\n",
    "        artwork_info[\"Create Date\"] = None\n",
    "\n",
    "    try:\n",
    "        birth_place_element = driver.find_element(By.CSS_SELECTOR, 'span[itemprop=\"locationCreated\"]')\n",
    "        artwork_info[\"Create Location\"] = birth_place_element.text.strip()\n",
    "    except:\n",
    "        artwork_info[\"Create Location\"] = None\n",
    "\n",
    "\n",
    "    article = driver.find_element(By.XPATH, \"//article\")\n",
    "    li_elements = article.find_elements(By.TAG_NAME, \"li\")\n",
    "\n",
    "    for element in li_elements:\n",
    "        try:\n",
    "            field_name = element.find_element(By.TAG_NAME, \"s\").text.strip().replace(\":\", \"\")\n",
    "        except:\n",
    "            continue\n",
    "            \n",
    "        try:\n",
    "            if field_name in [\"Media\", \"Style\", \"Genre\"]:\n",
    "                value_elements = element.find_elements(By.XPATH, \".//a\")\n",
    "            else:\n",
    "                value_elements = element.find_elements(By.XPATH, \".//span/a | .//a | .//span\")\n",
    "            value_texts = [v.text.strip() for v in value_elements if v.text.strip()]\n",
    "\n",
    "            if value_texts:\n",
    "                artwork_info[field_name] = \"|\".join(list(set(value_texts)))\n",
    "        except:\n",
    "            artwork_info[field_name] = None\n",
    "\n",
    "        try:\n",
    "            image_element = driver.find_element(By.XPATH, \"//img[@itemprop='image']\")\n",
    "            image_url = image_element.get_attribute(\"src\")\n",
    "            artwork_info[\"image_url\"] = image_url\n",
    "            #artwork_info[\"image_n\"] = n\n",
    "\n",
    "            #image_data = requests.get(image_url).content\n",
    "            #with open(f\"artwork_picture/{n}.jpg\", \"wb\") as file:\n",
    "            #    file.write(image_data)\n",
    "        except:\n",
    "            artwork_info[\"image_url\"] = None\n",
    "            #artwork_info[\"image_n\"] = None\n",
    "\n",
    "    try:\n",
    "        tags_elements = driver.find_elements(By.CSS_SELECTOR, \".tags-cheaps__item a.tags-cheaps__item__ref\")\n",
    "        tags = \"|\".join([tag.text.strip() for tag in tags_elements])\n",
    "        artwork_info[\"tags\"] = tags\n",
    "    except:\n",
    "        artwork_info[\"tags\"] = None\n",
    "\n",
    "\n",
    "    return artwork_info \n"
   ]
  },
  {
   "cell_type": "code",
   "execution_count": 4,
   "metadata": {},
   "outputs": [],
   "source": [
    "artworks = pd.read_csv(\"artist_data/artist_artwork.csv\")"
   ]
  },
  {
   "cell_type": "code",
   "execution_count": 5,
   "metadata": {},
   "outputs": [
    {
     "data": {
      "text/plain": [
       "'https://www.wikiart.org/en/ancient-greek-pottery/attic-middle-geometric-amphora-from-kerameikos--800'"
      ]
     },
     "execution_count": 5,
     "metadata": {},
     "output_type": "execute_result"
    }
   ],
   "source": [
    "links = list(artworks[\"Link\"])\n",
    "links[0]"
   ]
  },
  {
   "cell_type": "code",
   "execution_count": 15,
   "metadata": {},
   "outputs": [],
   "source": [
    "import os\n",
    "\n",
    "url_found = []\n",
    "for file in os.listdir(\"artwork_data\"):\n",
    "    if \"revised_artwork_data\" in file:\n",
    "        artwork_data = pd.read_csv(\"artwork_data/\" + file)\n",
    "        url_found += list(artwork_data[\"url\"])\n",
    "        #artwork_data[\"Style\"] = [\"|\".join(style.split(\"|\")[0].split(\", \"))  if str(style) != \"nan\" else None for style in list(artwork_data[\"Style\"])]\n",
    "        #artwork_data[\"Genre\"] = [\"|\".join(genre.split(\"|\")[0].split(\", \"))  if str(genre) != \"nan\" else None for genre in list(artwork_data[\"Genre\"])]\n",
    "        #artwork_data[\"Media\"] = [\"|\".join(media.split(\"|\")[0].split(\", \"))  if str(media) != \"nan\" else None for media in list(artwork_data[\"Media\"])]\n",
    "        #artwork_data.to_csv(\"revised_\" + file)\n",
    "\n",
    "url_unfound = list(set(links) - set(url_found))"
   ]
  },
  {
   "cell_type": "code",
   "execution_count": 16,
   "metadata": {},
   "outputs": [
    {
     "data": {
      "text/plain": [
       "104438"
      ]
     },
     "execution_count": 16,
     "metadata": {},
     "output_type": "execute_result"
    }
   ],
   "source": [
    "len(url_unfound)"
   ]
  },
  {
   "cell_type": "code",
   "execution_count": 10,
   "metadata": {},
   "outputs": [],
   "source": [
    "from tqdm import tqdm \n",
    "import time\n",
    "import random"
   ]
  },
  {
   "cell_type": "code",
   "execution_count": 11,
   "metadata": {},
   "outputs": [],
   "source": [
    "def extract_all_keys(dict_list):\n",
    "    \"\"\"\n",
    "    Extract all unique keys from a list of dictionaries.\n",
    "    Ensures that different dictionaries with different keys are fully accounted for.\n",
    "    \"\"\"\n",
    "    ordered_keys = []\n",
    "    seen_keys = set()\n",
    "    \n",
    "    for dictionary in dict_list:\n",
    "        for key in dictionary.keys():\n",
    "            if key not in seen_keys:\n",
    "                ordered_keys.append(key)\n",
    "                seen_keys.add(key)\n",
    "                \n",
    "    return ordered_keys"
   ]
  },
  {
   "cell_type": "code",
   "execution_count": 20,
   "metadata": {},
   "outputs": [
    {
     "data": {
      "text/plain": [
       "7"
      ]
     },
     "execution_count": 20,
     "metadata": {},
     "output_type": "execute_result"
    }
   ],
   "source": [
    "count = 7\n",
    "count"
   ]
  },
  {
   "cell_type": "code",
   "execution_count": 14,
   "metadata": {},
   "outputs": [
    {
     "name": "stderr",
     "output_type": "stream",
     "text": [
      "Processing Artworks:   2%|▏         | 2084/134413 [1:00:30<58:05:41,  1.58s/artwork]"
     ]
    },
    {
     "name": "stdout",
     "output_type": "stream",
     "text": [
      "Error (404): https://www.wikiart.org/en/katsushika-hokusai/shimomeguro\n"
     ]
    },
    {
     "name": "stderr",
     "output_type": "stream",
     "text": [
      "Processing Artworks:   2%|▏         | 2912/134413 [1:24:47<53:28:05,  1.46s/artwork]"
     ]
    },
    {
     "name": "stdout",
     "output_type": "stream",
     "text": [
      "Error (404): https://www.wikiart.org/en/mikhail-larionov/summer-1912\n"
     ]
    },
    {
     "name": "stderr",
     "output_type": "stream",
     "text": [
      "Processing Artworks:   2%|▏         | 2985/134413 [1:26:50<53:48:21,  1.47s/artwork]"
     ]
    },
    {
     "name": "stdout",
     "output_type": "stream",
     "text": [
      "Error (404): https://www.wikiart.org/en/tsuguharu-foujita/portrait-of-a-young-woman-in-profile\n"
     ]
    },
    {
     "name": "stderr",
     "output_type": "stream",
     "text": [
      "Processing Artworks:   3%|▎         | 3392/134413 [1:38:40<96:22:12,  2.65s/artwork]"
     ]
    },
    {
     "name": "stdout",
     "output_type": "stream",
     "text": [
      "Error (404): https://www.wikiart.org/en/zinaida-serebriakova/ballet-washroom-1924\n"
     ]
    },
    {
     "name": "stderr",
     "output_type": "stream",
     "text": [
      "Processing Artworks:   4%|▍         | 5088/134413 [2:28:14<89:11:44,  2.48s/artwork] "
     ]
    },
    {
     "name": "stdout",
     "output_type": "stream",
     "text": [
      "Error (404): https://www.wikiart.org/en/victor-meirelles/a-passagem-de-humait-1886\n"
     ]
    },
    {
     "name": "stderr",
     "output_type": "stream",
     "text": [
      "Processing Artworks:   5%|▌         | 6769/134413 [3:17:37<57:32:42,  1.62s/artwork]"
     ]
    },
    {
     "name": "stdout",
     "output_type": "stream",
     "text": [
      "Error (404): https://www.wikiart.org/en/morris-louis/saraband-1959\n"
     ]
    },
    {
     "name": "stderr",
     "output_type": "stream",
     "text": [
      "Processing Artworks:   5%|▌         | 7146/134413 [3:29:36<97:08:19,  2.75s/artwork] "
     ]
    },
    {
     "name": "stdout",
     "output_type": "stream",
     "text": [
      "Error (404): https://www.wikiart.org/en/salvador-dali/soft-self-portrait-with-fried-bacon\n"
     ]
    },
    {
     "name": "stderr",
     "output_type": "stream",
     "text": [
      "Processing Artworks:   6%|▌         | 8256/134413 [4:02:52<57:25:21,  1.64s/artwork]"
     ]
    },
    {
     "name": "stdout",
     "output_type": "stream",
     "text": [
      "Error (404): https://www.wikiart.org/en/alfred-freddy-krupa/old-town-ozalj-2012\n"
     ]
    },
    {
     "name": "stderr",
     "output_type": "stream",
     "text": [
      "Processing Artworks:   7%|▋         | 9686/134413 [4:46:37<88:16:18,  2.55s/artwork]"
     ]
    },
    {
     "name": "stdout",
     "output_type": "stream",
     "text": [
      "Error (404): https://www.wikiart.org/en/taki-183/tag-1970-1\n"
     ]
    },
    {
     "name": "stderr",
     "output_type": "stream",
     "text": [
      "Saving artist info: 100%|██████████| 9991/9991 [00:02<00:00, 3646.88artist/s]rtwork]\n",
      "Processing Artworks:   9%|▉         | 11887/134413 [6:01:02<95:20:44,  2.80s/artwork] "
     ]
    },
    {
     "name": "stdout",
     "output_type": "stream",
     "text": [
      "Error (404): https://www.wikiart.org/en/zinaida-serebriakova/peasant-girl-1906\n"
     ]
    },
    {
     "name": "stderr",
     "output_type": "stream",
     "text": [
      "Processing Artworks:  10%|▉         | 12971/134413 [6:35:39<85:36:25,  2.54s/artwork]"
     ]
    },
    {
     "name": "stdout",
     "output_type": "stream",
     "text": [
      "Error (404): https://www.wikiart.org/en/allan-mccollum/144-plaster-surrogates-no-1\n"
     ]
    },
    {
     "name": "stderr",
     "output_type": "stream",
     "text": [
      "Processing Artworks:  10%|▉         | 13379/134413 [6:48:43<97:45:03,  2.91s/artwork] "
     ]
    },
    {
     "name": "stdout",
     "output_type": "stream",
     "text": [
      "Error (404): https://www.wikiart.org/en/ralph-fasanella/american-tragedy-1964\n"
     ]
    },
    {
     "name": "stderr",
     "output_type": "stream",
     "text": [
      "Processing Artworks:  10%|█         | 13976/134413 [7:06:28<84:50:33,  2.54s/artwork]"
     ]
    },
    {
     "name": "stdout",
     "output_type": "stream",
     "text": [
      "Error (404): https://www.wikiart.org/en/laolu-nyc/esu\n"
     ]
    },
    {
     "name": "stderr",
     "output_type": "stream",
     "text": [
      "Processing Artworks:  11%|█         | 14862/134413 [7:31:59<50:13:28,  1.51s/artwork]"
     ]
    },
    {
     "name": "stdout",
     "output_type": "stream",
     "text": [
      "Error (404): https://www.wikiart.org/en/pablo-picasso/house-in-a-garden-1908\n"
     ]
    },
    {
     "name": "stderr",
     "output_type": "stream",
     "text": [
      "Processing Artworks:  11%|█         | 15070/134413 [7:38:02<83:22:09,  2.51s/artwork]"
     ]
    },
    {
     "name": "stdout",
     "output_type": "stream",
     "text": [
      "Error (404): https://www.wikiart.org/en/joaquim-rodrigo/sereia\n"
     ]
    },
    {
     "name": "stderr",
     "output_type": "stream",
     "text": [
      "Processing Artworks:  12%|█▏        | 16503/134413 [8:20:21<77:00:35,  2.35s/artwork] "
     ]
    },
    {
     "name": "stdout",
     "output_type": "stream",
     "text": [
      "Error (404): https://www.wikiart.org/en/jules-breton/rainbow-1883\n"
     ]
    },
    {
     "name": "stderr",
     "output_type": "stream",
     "text": [
      "Processing Artworks:  13%|█▎        | 17693/134413 [8:58:12<81:47:35,  2.52s/artwork]"
     ]
    },
    {
     "name": "stdout",
     "output_type": "stream",
     "text": [
      "Error (404): https://www.wikiart.org/en/thomas-jones/ariccia-buildings-on-the-edge-of-the-town-1777\n"
     ]
    },
    {
     "name": "stderr",
     "output_type": "stream",
     "text": [
      "Processing Artworks:  14%|█▍        | 19404/134413 [9:51:03<56:07:15,  1.76s/artwork]"
     ]
    },
    {
     "name": "stdout",
     "output_type": "stream",
     "text": [
      "Error (404): https://www.wikiart.org/en/antonio-bueno/double-self-portrait-1944\n"
     ]
    },
    {
     "name": "stderr",
     "output_type": "stream",
     "text": [
      "Saving artist info: 100%|██████████| 9991/9991 [00:01<00:00, 9007.43artist/s] artwork]\n",
      "Processing Artworks:  15%|█▌        | 20352/134413 [10:20:10<50:01:34,  1.58s/artwork]"
     ]
    },
    {
     "name": "stdout",
     "output_type": "stream",
     "text": [
      "Error (404): https://www.wikiart.org/en/arturo-souto/dance-class-1932\n"
     ]
    },
    {
     "name": "stderr",
     "output_type": "stream",
     "text": [
      "Processing Artworks:  16%|█▌        | 21775/134413 [11:03:05<77:59:17,  2.49s/artwork]"
     ]
    },
    {
     "name": "stdout",
     "output_type": "stream",
     "text": [
      "Error (404): https://www.wikiart.org/en/pierre-auguste-renoir/sailboats-at-argenteuil\n"
     ]
    },
    {
     "name": "stderr",
     "output_type": "stream",
     "text": [
      "Processing Artworks:  16%|█▋        | 21916/134413 [11:07:26<82:27:16,  2.64s/artwork]"
     ]
    },
    {
     "name": "stdout",
     "output_type": "stream",
     "text": [
      "Error (404): https://www.wikiart.org/en/robert-smithson/glue-pour-1969\n"
     ]
    },
    {
     "name": "stderr",
     "output_type": "stream",
     "text": [
      "Processing Artworks:  17%|█▋        | 22735/134413 [11:33:21<50:38:23,  1.63s/artwork]"
     ]
    },
    {
     "name": "stdout",
     "output_type": "stream",
     "text": [
      "Error (404): https://www.wikiart.org/en/carlos-almaraz/early-hawaiians-1983\n"
     ]
    },
    {
     "name": "stderr",
     "output_type": "stream",
     "text": [
      "Processing Artworks:  17%|█▋        | 23056/134413 [11:43:01<77:54:29,  2.52s/artwork]"
     ]
    },
    {
     "name": "stdout",
     "output_type": "stream",
     "text": [
      "Error (404): https://www.wikiart.org/en/alexei-harlamoff/a-neapolitan-girl\n"
     ]
    },
    {
     "name": "stderr",
     "output_type": "stream",
     "text": [
      "Processing Artworks:  19%|█▉        | 25245/134413 [12:51:47<81:41:35,  2.69s/artwork]"
     ]
    },
    {
     "name": "stdout",
     "output_type": "stream",
     "text": [
      "Error (404): https://www.wikiart.org/en/john-miller/porth-kidney-beach\n"
     ]
    },
    {
     "name": "stderr",
     "output_type": "stream",
     "text": [
      "Processing Artworks:  19%|█▉        | 25562/134413 [13:02:23<78:57:32,  2.61s/artwork]"
     ]
    },
    {
     "name": "stdout",
     "output_type": "stream",
     "text": [
      "Error (404): https://www.wikiart.org/en/adolf-dietrich/sechs-meerschweinchen-im-stall-1934\n"
     ]
    },
    {
     "name": "stderr",
     "output_type": "stream",
     "text": [
      "Saving artist info: 100%|██████████| 9993/9993 [00:01<00:00, 9856.65artist/s] artwork]\n",
      "Processing Artworks:  22%|██▏       | 30187/134413 [15:28:20<78:41:09,  2.72s/artwork]"
     ]
    },
    {
     "name": "stdout",
     "output_type": "stream",
     "text": [
      "Error (404): https://www.wikiart.org/en/pablo-picasso/bearded-man-1962\n"
     ]
    },
    {
     "name": "stderr",
     "output_type": "stream",
     "text": [
      "Processing Artworks:  23%|██▎       | 30432/134413 [15:36:12<53:18:51,  1.85s/artwork]"
     ]
    },
    {
     "name": "stdout",
     "output_type": "stream",
     "text": [
      "stopped\n"
     ]
    },
    {
     "name": "stderr",
     "output_type": "stream",
     "text": [
      "\n"
     ]
    }
   ],
   "source": [
    "artwork_data = []\n",
    "notfound = []\n",
    "n = 0\n",
    "\n",
    "for url in tqdm(url_unfound, desc=\"Processing Artworks\", unit=\"artwork\"):\n",
    "    try:\n",
    "        artwork_info = extract_artworkinfo(url)\n",
    "        if not isinstance(artwork_info, str):\n",
    "            artwork_data.append(artwork_info)\n",
    "        else:\n",
    "            notfound.append((artwork_info))\n",
    "\n",
    "    except KeyboardInterrupt:\n",
    "        print(\"stopped\")\n",
    "        break\n",
    "    except Exception:\n",
    "        notfound.append((url))\n",
    "    \n",
    "    n += 1\n",
    "\n",
    "    if n%10000 == 0:\n",
    "        all_keys_artist = extract_all_keys(artwork_data)\n",
    "\n",
    "        with open(f\"artwork_data/revised_artwork_data_{count}.csv\", mode='w', encoding='utf-8', newline='') as file:\n",
    "            writer = csv.DictWriter(file, fieldnames=all_keys_artist)\n",
    "\n",
    "            writer.writeheader()\n",
    "\n",
    "            for artist in tqdm(artwork_data, desc=\"Saving artist info\", unit=\"artist\"):\n",
    "                writer.writerow({key: artist.get(key, \"\") for key in all_keys_artist})\n",
    "        \n",
    "        count += 1\n",
    "        artwork_data = []\n",
    "\n",
    "        if n//10000 == 1:\n",
    "            break\n",
    "        "
   ]
  }
 ],
 "metadata": {
  "kernelspec": {
   "display_name": ".venv",
   "language": "python",
   "name": "python3"
  },
  "language_info": {
   "codemirror_mode": {
    "name": "ipython",
    "version": 3
   },
   "file_extension": ".py",
   "mimetype": "text/x-python",
   "name": "python",
   "nbconvert_exporter": "python",
   "pygments_lexer": "ipython3",
   "version": "3.10.0"
  }
 },
 "nbformat": 4,
 "nbformat_minor": 2
}
