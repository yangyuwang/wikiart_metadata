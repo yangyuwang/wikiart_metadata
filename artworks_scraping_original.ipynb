{
 "cells": [
  {
   "cell_type": "markdown",
   "metadata": {},
   "source": [
    "# Scraping artworks on wikiart by Selenium\n",
    "\n",
    "### Author: Yangyu Wang\n",
    "### Date: Jan 18, 2025"
   ]
  },
  {
   "cell_type": "code",
   "execution_count": 1,
   "metadata": {},
   "outputs": [],
   "source": [
    "import pandas as pd\n",
    "import csv\n",
    "from selenium import webdriver\n",
    "from selenium.webdriver.common.by import By\n",
    "from selenium.webdriver.support.ui import WebDriverWait\n",
    "from selenium.webdriver.support import expected_conditions as EC\n",
    "import requests"
   ]
  },
  {
   "cell_type": "code",
   "execution_count": 2,
   "metadata": {},
   "outputs": [
    {
     "name": "stderr",
     "output_type": "stream",
     "text": [
      "The geckodriver version (0.34.0) detected in PATH at /usr/local/bin/geckodriver might not be compatible with the detected firefox version (134.0.1); currently, geckodriver 0.35.0 is recommended for firefox 134.*, so it is advised to delete the driver in PATH and retry\n"
     ]
    }
   ],
   "source": [
    "driver = webdriver.Firefox()"
   ]
  },
  {
   "cell_type": "code",
   "execution_count": 3,
   "metadata": {},
   "outputs": [],
   "source": [
    "def extract_artworkinfo(url):\n",
    "\n",
    "    driver.get(url)\n",
    "\n",
    "    artwork_info = {\"url\": url}\n",
    "    \n",
    "    try:\n",
    "        WebDriverWait(driver, 3).until(\n",
    "            EC.presence_of_element_located((By.TAG_NAME, \"h3\"))\n",
    "        )\n",
    "    except:\n",
    "        print(\"Error (404):\", url)\n",
    "        return url\n",
    "\n",
    "    try:\n",
    "        birth_date_element = driver.find_element(By.CSS_SELECTOR, 'span[itemprop=\"dateCreated\"]')\n",
    "        artwork_info[\"Create Date\"] = birth_date_element.text.strip()\n",
    "    except:\n",
    "        artwork_info[\"Create Date\"] = None\n",
    "\n",
    "    try:\n",
    "        birth_place_element = driver.find_element(By.CSS_SELECTOR, 'span[itemprop=\"locationCreated\"]')\n",
    "        artwork_info[\"Create Location\"] = birth_place_element.text.strip()\n",
    "    except:\n",
    "        artwork_info[\"Create Location\"] = None\n",
    "\n",
    "\n",
    "    article = driver.find_element(By.XPATH, \"//article\")\n",
    "    li_elements = article.find_elements(By.TAG_NAME, \"li\")\n",
    "\n",
    "    for element in li_elements:\n",
    "        try:\n",
    "            field_name = element.find_element(By.TAG_NAME, \"s\").text.strip().replace(\":\", \"\")\n",
    "        except:\n",
    "            continue\n",
    "            \n",
    "        try:\n",
    "            if field_name in [\"Media\", \"Style\", \"Genre\"]:\n",
    "                value_elements = element.find_elements(By.XPATH, \".//a\")\n",
    "            else:\n",
    "                value_elements = element.find_elements(By.XPATH, \".//span/a | .//a | .//span\")\n",
    "            value_texts = [v.text.strip() for v in value_elements if v.text.strip()]\n",
    "\n",
    "            if value_texts:\n",
    "                artwork_info[field_name] = \"|\".join(list(set(value_texts)))\n",
    "        except:\n",
    "            artwork_info[field_name] = None\n",
    "\n",
    "        try:\n",
    "            image_element = driver.find_element(By.XPATH, \"//img[@itemprop='image']\")\n",
    "            image_url = image_element.get_attribute(\"src\")\n",
    "            artwork_info[\"image_url\"] = image_url\n",
    "            #artwork_info[\"image_n\"] = n\n",
    "\n",
    "            #image_data = requests.get(image_url).content\n",
    "            #with open(f\"artwork_picture/{n}.jpg\", \"wb\") as file:\n",
    "            #    file.write(image_data)\n",
    "        except:\n",
    "            artwork_info[\"image_url\"] = None\n",
    "            #artwork_info[\"image_n\"] = None\n",
    "\n",
    "    try:\n",
    "        tags_elements = driver.find_elements(By.CSS_SELECTOR, \".tags-cheaps__item a.tags-cheaps__item__ref\")\n",
    "        tags = \"|\".join([tag.text.strip() for tag in tags_elements])\n",
    "        artwork_info[\"tags\"] = tags\n",
    "    except:\n",
    "        artwork_info[\"tags\"] = None\n",
    "\n",
    "\n",
    "    return artwork_info \n"
   ]
  },
  {
   "cell_type": "code",
   "execution_count": 4,
   "metadata": {},
   "outputs": [],
   "source": [
    "artworks = pd.read_csv(\"artist_data/artist_artwork.csv\")"
   ]
  },
  {
   "cell_type": "code",
   "execution_count": 5,
   "metadata": {},
   "outputs": [
    {
     "data": {
      "text/plain": [
       "'https://www.wikiart.org/en/ancient-greek-pottery/attic-middle-geometric-amphora-from-kerameikos--800'"
      ]
     },
     "execution_count": 5,
     "metadata": {},
     "output_type": "execute_result"
    }
   ],
   "source": [
    "links = list(artworks[\"Link\"])\n",
    "links[0]"
   ]
  },
  {
   "cell_type": "code",
   "execution_count": 6,
   "metadata": {},
   "outputs": [],
   "source": [
    "import os\n",
    "\n",
    "url_found = []\n",
    "for file in os.listdir(\"artwork_data\"):\n",
    "    if \"revised_artwork_data\" in file:\n",
    "        artwork_data = pd.read_csv(\"artwork_data/\" + file)\n",
    "        url_found += list(artwork_data[\"url\"])\n",
    "        #artwork_data[\"Style\"] = [\"|\".join(style.split(\"|\")[0].split(\", \"))  if str(style) != \"nan\" else None for style in list(artwork_data[\"Style\"])]\n",
    "        #artwork_data[\"Genre\"] = [\"|\".join(genre.split(\"|\")[0].split(\", \"))  if str(genre) != \"nan\" else None for genre in list(artwork_data[\"Genre\"])]\n",
    "        #artwork_data[\"Media\"] = [\"|\".join(media.split(\"|\")[0].split(\", \"))  if str(media) != \"nan\" else None for media in list(artwork_data[\"Media\"])]\n",
    "        #artwork_data.to_csv(\"revised_\" + file)\n",
    "\n",
    "url_unfound = list(set(links) - set(url_found))"
   ]
  },
  {
   "cell_type": "code",
   "execution_count": 7,
   "metadata": {},
   "outputs": [
    {
     "data": {
      "text/plain": [
       "104438"
      ]
     },
     "execution_count": 7,
     "metadata": {},
     "output_type": "execute_result"
    }
   ],
   "source": [
    "len(url_unfound)"
   ]
  },
  {
   "cell_type": "code",
   "execution_count": 8,
   "metadata": {},
   "outputs": [],
   "source": [
    "from tqdm import tqdm \n",
    "import time\n",
    "import random"
   ]
  },
  {
   "cell_type": "code",
   "execution_count": 9,
   "metadata": {},
   "outputs": [],
   "source": [
    "def extract_all_keys(dict_list):\n",
    "    \"\"\"\n",
    "    Extract all unique keys from a list of dictionaries.\n",
    "    Ensures that different dictionaries with different keys are fully accounted for.\n",
    "    \"\"\"\n",
    "    ordered_keys = []\n",
    "    seen_keys = set()\n",
    "    \n",
    "    for dictionary in dict_list:\n",
    "        for key in dictionary.keys():\n",
    "            if key not in seen_keys:\n",
    "                ordered_keys.append(key)\n",
    "                seen_keys.add(key)\n",
    "                \n",
    "    return ordered_keys"
   ]
  },
  {
   "cell_type": "code",
   "execution_count": 10,
   "metadata": {},
   "outputs": [
    {
     "data": {
      "text/plain": [
       "7"
      ]
     },
     "execution_count": 10,
     "metadata": {},
     "output_type": "execute_result"
    }
   ],
   "source": [
    "count = 7\n",
    "count"
   ]
  },
  {
   "cell_type": "code",
   "execution_count": 11,
   "metadata": {},
   "outputs": [
    {
     "name": "stdout",
     "output_type": "stream",
     "text": [
      "https://www.wikiart.org/en/paul-gauguin/tree-in-the-farm-yard-1874\n",
      "https://www.wikiart.org/en/william-adolphe-bouguereau/the-return-of-the-market-1869\n"
     ]
    }
   ],
   "source": [
    "len(url_unfound[(count-7)*10000:(count-6)*10000])\n",
    "print(url_unfound[(count-7)*10000:(count-6)*10000][0])\n",
    "print(url_unfound[(count-7)*10000:(count-6)*10000][9999])"
   ]
  },
  {
   "cell_type": "code",
   "execution_count": 12,
   "metadata": {},
   "outputs": [
    {
     "name": "stderr",
     "output_type": "stream",
     "text": [
      "Processing Artworks:   0%|          | 0/10000 [00:00<?, ?artwork/s]"
     ]
    },
    {
     "name": "stderr",
     "output_type": "stream",
     "text": [
      "Processing Artworks:  52%|█████▏    | 5169/10000 [3:14:18<4:47:48,  3.57s/artwork]"
     ]
    },
    {
     "name": "stdout",
     "output_type": "stream",
     "text": [
      "Error (404): https://www.wikiart.org/en/fyodor-vasilyev/pond-at-the-sunset\n"
     ]
    },
    {
     "name": "stderr",
     "output_type": "stream",
     "text": [
      "Processing Artworks:  97%|█████████▋| 9683/10000 [6:03:16<13:56,  2.64s/artwork]  "
     ]
    },
    {
     "name": "stdout",
     "output_type": "stream",
     "text": [
      "Error (404): https://www.wikiart.org/en/jacques-louis-david/the-death-of-marat-1793\n"
     ]
    },
    {
     "name": "stderr",
     "output_type": "stream",
     "text": [
      "Processing Artworks: 100%|██████████| 10000/10000 [6:15:13<00:00,  2.25s/artwork]\n",
      "Saving artist info: 100%|██████████| 9998/9998 [00:00<00:00, 50631.71artist/s]\n"
     ]
    }
   ],
   "source": [
    "artwork_data = []\n",
    "notfound = []\n",
    "n = 0\n",
    "\n",
    "for url in tqdm(url_unfound[(count-7)*10000:(count-6)*10000], desc=\"Processing Artworks\", unit=\"artwork\"):\n",
    "    try:\n",
    "        artwork_info = extract_artworkinfo(url)\n",
    "        if not isinstance(artwork_info, str):\n",
    "            artwork_data.append(artwork_info)\n",
    "        else:\n",
    "            notfound.append((artwork_info))\n",
    "\n",
    "    except KeyboardInterrupt:\n",
    "        print(\"stopped\")\n",
    "        break\n",
    "    except Exception:\n",
    "        notfound.append((url))\n",
    "    \n",
    "all_keys_artist = extract_all_keys(artwork_data)\n",
    "\n",
    "with open(f\"artwork_data/revised_artwork_data_{count}.csv\", mode='w', encoding='utf-8', newline='') as file:\n",
    "    writer = csv.DictWriter(file, fieldnames=all_keys_artist)\n",
    "\n",
    "    writer.writeheader()\n",
    "\n",
    "    for artist in tqdm(artwork_data, desc=\"Saving artist info\", unit=\"artist\"):\n",
    "        writer.writerow({key: artist.get(key, \"\") for key in all_keys_artist})\n",
    "\n",
    "artwork_data = []"
   ]
  }
 ],
 "metadata": {
  "kernelspec": {
   "display_name": ".venv",
   "language": "python",
   "name": "python3"
  },
  "language_info": {
   "codemirror_mode": {
    "name": "ipython",
    "version": 3
   },
   "file_extension": ".py",
   "mimetype": "text/x-python",
   "name": "python",
   "nbconvert_exporter": "python",
   "pygments_lexer": "ipython3",
   "version": "3.10.0"
  }
 },
 "nbformat": 4,
 "nbformat_minor": 2
}
