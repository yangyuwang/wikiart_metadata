{
 "cells": [
  {
   "cell_type": "markdown",
   "metadata": {},
   "source": [
    "# Scraping WikiArt by Selenium\n",
    "\n",
    "### Author: Yangyu Wang\n",
    "### Date: Jan 18, 2025"
   ]
  },
  {
   "cell_type": "markdown",
   "metadata": {},
   "source": [
    "## Generate artist names from existing dataset"
   ]
  },
  {
   "cell_type": "code",
   "execution_count": 1,
   "metadata": {},
   "outputs": [
    {
     "name": "stdout",
     "output_type": "stream",
     "text": [
      "['Ancient Egypt' 'Ancient Greek Painting and Sculpture'\n",
      " 'Ancient Greek Pottery' 'Apelles' 'Fayum portrait' 'Cricorps'\n",
      " 'Teddy Cobeña' 'Thiago Boecan' 'Edward Burne-Jones' 'Orthodox Icons']\n"
     ]
    }
   ],
   "source": [
    "import pandas as pd\n",
    "import csv\n",
    "import unicodedata\n",
    "\n",
    "def remove_accents(input_str):\n",
    "    \"\"\"\n",
    "    Convert Spanish and other accented characters to their English equivalent.\n",
    "    \"\"\"\n",
    "    return unicodedata.normalize('NFKD', input_str).encode('ASCII', 'ignore').decode('utf-8')\n",
    "\n",
    "file_path = \"wikiart_expanded/wikiart_expanded.csv\"\n",
    "data = pd.read_csv(file_path)\n",
    "\n",
    "unique_artists = data['Artist'].dropna().unique()\n",
    "\n",
    "print(unique_artists[:10])"
   ]
  },
  {
   "cell_type": "code",
   "execution_count": 46,
   "metadata": {},
   "outputs": [
    {
     "data": {
      "text/plain": [
       "array(['Ancient Egypt', 'Ancient Greek Painting and Sculpture',\n",
       "       'Ancient Greek Pottery', 'Apelles', 'Fayum portrait'], dtype=object)"
      ]
     },
     "execution_count": 46,
     "metadata": {},
     "output_type": "execute_result"
    }
   ],
   "source": [
    "unique_artists[:5]"
   ]
  },
  {
   "cell_type": "markdown",
   "metadata": {},
   "source": [
    "## Open firefox"
   ]
  },
  {
   "cell_type": "code",
   "execution_count": 2,
   "metadata": {},
   "outputs": [
    {
     "name": "stderr",
     "output_type": "stream",
     "text": [
      "The geckodriver version (0.34.0) detected in PATH at /usr/local/bin/geckodriver might not be compatible with the detected firefox version (134.0.1); currently, geckodriver 0.35.0 is recommended for firefox 134.*, so it is advised to delete the driver in PATH and retry\n"
     ]
    }
   ],
   "source": [
    "from selenium import webdriver\n",
    "from selenium.webdriver.common.by import By\n",
    "import pandas as pd\n",
    "from selenium.webdriver.support.ui import WebDriverWait\n",
    "from selenium.webdriver.support import expected_conditions as EC\n",
    "\n",
    "driver = webdriver.Firefox()"
   ]
  },
  {
   "cell_type": "markdown",
   "metadata": {},
   "source": [
    "## Functions to extract artist information and artworks contents"
   ]
  },
  {
   "cell_type": "code",
   "execution_count": 41,
   "metadata": {},
   "outputs": [],
   "source": [
    "def extract_artist_info(artist_name, url_name = None):\n",
    "\n",
    "    if url_name:\n",
    "        artist = url_name\n",
    "    else:   \n",
    "        artist = remove_accents(artist_name).lower().replace('.', '').replace(' ', '-')\n",
    "\n",
    "    artist_info = {\"name\": artist_name, \"url_name\": artist}\n",
    "\n",
    "    url_artist = f\"https://www.wikiart.org/en/{artist}\"\n",
    "    #url_artworks = f\"https://www.wikiart.org/en/{artist}/all-works/text-list\"\n",
    "\n",
    "    driver.get(url_artist)\n",
    "    \n",
    "    try:\n",
    "        WebDriverWait(driver, 3).until(\n",
    "            EC.presence_of_element_located((By.TAG_NAME, \"h3\"))\n",
    "        )\n",
    "    except:\n",
    "        print(\"Error (404):\", artist_name)\n",
    "        return artist_name\n",
    "\n",
    "    try:\n",
    "        birth_date_element = driver.find_element(By.CSS_SELECTOR, 'span[itemprop=\"birthDate\"]')\n",
    "        artist_info[\"Birth Date\"] = birth_date_element.text.strip()\n",
    "    except:\n",
    "        artist_info[\"Birth Date\"] = None\n",
    "\n",
    "    try:\n",
    "        death_date_element = driver.find_element(By.CSS_SELECTOR, 'span[itemprop=\"deathDate\"]')\n",
    "        artist_info[\"Death Date\"] = death_date_element.text.strip()\n",
    "    except:\n",
    "        artist_info[\"Death Date\"] = None\n",
    "\n",
    "    try:\n",
    "        birth_place_element = driver.find_element(By.CSS_SELECTOR, 'span[itemprop=\"birthPlace\"]')\n",
    "        artist_info[\"Birth place\"] = birth_place_element.text.strip()\n",
    "    except:\n",
    "        artist_info[\"Birth place\"] = None\n",
    "\n",
    "    try:\n",
    "        death_place_element = driver.find_element(By.CSS_SELECTOR, 'span[itemprop=\"deathPlace\"]')\n",
    "        artist_info[\"Death place\"] = death_place_element.text.strip()\n",
    "    except:\n",
    "        artist_info[\"Death place\"] = None\n",
    "\n",
    "    li_elements = driver.find_elements(By.TAG_NAME, \"li\")\n",
    "\n",
    "    for element in li_elements:\n",
    "        try:\n",
    "            field_name = element.find_element(By.TAG_NAME, \"s\").text.strip().replace(\":\", \"\")\n",
    "        except:\n",
    "            continue\n",
    "            \n",
    "        try:\n",
    "            value_elements = element.find_elements(By.XPATH, \".//span/a | .//a\")\n",
    "            value_texts = [v.text.strip() for v in value_elements if v.text.strip()]\n",
    "\n",
    "            if value_texts:\n",
    "                artist_info[field_name] = \"|\".join(value_texts)\n",
    "        except:\n",
    "            artist_info[field_name] = None\n",
    "\n",
    "    try:\n",
    "        wiki_element = driver.find_element(By.CSS_SELECTOR, \".truncated-link a.truncate.external\")\n",
    "        artist_info[\"Wikipedia\"] = wiki_element.get_attribute(\"href\")\n",
    "    except:\n",
    "        artist_info[\"Wikipedia\"] = None\n",
    "\n",
    "    return(artist_info)\n"
   ]
  },
  {
   "cell_type": "code",
   "execution_count": 29,
   "metadata": {},
   "outputs": [],
   "source": [
    "def extract_artist_work(artist_name, url_name = None):\n",
    "\n",
    "    if url_name:\n",
    "        artist = url_name\n",
    "    else:   \n",
    "        artist = remove_accents(artist_name).lower().replace('.', '').replace(' ', '-')\n",
    "    \n",
    "    artworks = []\n",
    "\n",
    "    url_artworks = f\"https://www.wikiart.org/en/{artist}/all-works/text-list\"\n",
    "\n",
    "    driver.get(url_artworks)\n",
    "\n",
    "    painting_elements = driver.find_elements(By.CSS_SELECTOR, \".painting-list-text-row\")\n",
    "\n",
    "    for element in painting_elements:\n",
    "        try:\n",
    "            artwork_element = element.find_element(By.TAG_NAME, \"a\")\n",
    "            artwork_name = artwork_element.text.strip()\n",
    "            artwork_link = artwork_element.get_attribute(\"href\")\n",
    "\n",
    "            try:\n",
    "                year_element = element.find_element(By.TAG_NAME, \"span\")\n",
    "                artwork_year = year_element.text.strip().replace(\",\", \"\")\n",
    "            except:\n",
    "                artwork_year = None\n",
    "\n",
    "            # 存储数据\n",
    "            artworks.append({\n",
    "                \"Artist_name\": artist,\n",
    "                \"Artwork Name\": artwork_name,\n",
    "                \"Year\": artwork_year,\n",
    "                \"Link\": artwork_link\n",
    "            })\n",
    "        except:\n",
    "            continue\n",
    "\n",
    "    return artworks"
   ]
  },
  {
   "cell_type": "markdown",
   "metadata": {},
   "source": [
    "## Extract artist information and artworks contents"
   ]
  },
  {
   "cell_type": "code",
   "execution_count": 5,
   "metadata": {},
   "outputs": [],
   "source": [
    "from tqdm import tqdm \n",
    "import time\n",
    "import random\n"
   ]
  },
  {
   "cell_type": "code",
   "execution_count": null,
   "metadata": {},
   "outputs": [
    {
     "name": "stderr",
     "output_type": "stream",
     "text": [
      "Processing Artists:   2%|▏         | 50/2174 [08:57<5:53:57, 10.00s/artist]"
     ]
    },
    {
     "name": "stdout",
     "output_type": "stream",
     "text": [
      "Error (404): Paweł Kluza\n"
     ]
    },
    {
     "name": "stderr",
     "output_type": "stream",
     "text": [
      "Processing Artists:   6%|▌         | 122/2174 [20:54<5:32:42,  9.73s/artist]"
     ]
    },
    {
     "name": "stdout",
     "output_type": "stream",
     "text": [
      "Error (404): [ a y s h ]\n"
     ]
    },
    {
     "name": "stderr",
     "output_type": "stream",
     "text": [
      "Processing Artists:   6%|▌         | 134/2174 [22:55<6:31:44, 11.52s/artist]"
     ]
    },
    {
     "name": "stdout",
     "output_type": "stream",
     "text": [
      "Error (404): Stanisław Szukalski\n"
     ]
    },
    {
     "name": "stderr",
     "output_type": "stream",
     "text": [
      "Processing Artists:  13%|█▎        | 277/2174 [47:32<8:11:03, 15.53s/artist]"
     ]
    },
    {
     "name": "stdout",
     "output_type": "stream",
     "text": [
      "Error (404): Vahram Gayfedjian\n"
     ]
    },
    {
     "name": "stderr",
     "output_type": "stream",
     "text": [
      "Processing Artists:  14%|█▎        | 298/2174 [51:22<5:03:09,  9.70s/artist]"
     ]
    },
    {
     "name": "stdout",
     "output_type": "stream",
     "text": [
      "Error (404): Roderic O'Conor\n"
     ]
    },
    {
     "name": "stderr",
     "output_type": "stream",
     "text": [
      "Processing Artists:  15%|█▍        | 325/2174 [57:04<6:36:03, 12.85s/artist]"
     ]
    },
    {
     "name": "stdout",
     "output_type": "stream",
     "text": [
      "Error (404): Oleksa Novakivskyi\n"
     ]
    },
    {
     "name": "stderr",
     "output_type": "stream",
     "text": [
      "Processing Artists:  17%|█▋        | 372/2174 [1:05:57<5:07:58, 10.25s/artist]"
     ]
    },
    {
     "name": "stdout",
     "output_type": "stream",
     "text": [
      "Error (404): A.Y. Jackson\n"
     ]
    },
    {
     "name": "stderr",
     "output_type": "stream",
     "text": [
      "Processing Artists:  18%|█▊        | 397/2174 [1:10:20<4:33:44,  9.24s/artist]"
     ]
    },
    {
     "name": "stdout",
     "output_type": "stream",
     "text": [
      "Error (404): Frank O'Meara\n"
     ]
    },
    {
     "name": "stderr",
     "output_type": "stream",
     "text": [
      "Processing Artists:  19%|█▉        | 421/2174 [1:14:37<4:43:46,  9.71s/artist]"
     ]
    },
    {
     "name": "stdout",
     "output_type": "stream",
     "text": [
      "Error (404): Stanisław Wyspiański\n"
     ]
    },
    {
     "name": "stderr",
     "output_type": "stream",
     "text": [
      "Processing Artists:  26%|██▌       | 555/2174 [1:38:06<5:03:38, 11.25s/artist] "
     ]
    },
    {
     "name": "stdout",
     "output_type": "stream",
     "text": [
      "Error (404): Soltan Soltanlı\n"
     ]
    },
    {
     "name": "stderr",
     "output_type": "stream",
     "text": [
      "Processing Artists:  26%|██▋       | 576/2174 [1:41:31<4:13:29,  9.52s/artist]"
     ]
    },
    {
     "name": "stdout",
     "output_type": "stream",
     "text": [
      "Error (404): Marevna (Marie Vorobieff)\n"
     ]
    },
    {
     "name": "stderr",
     "output_type": "stream",
     "text": [
      "Processing Artists:  27%|██▋       | 578/2174 [1:41:53<4:29:17, 10.12s/artist]"
     ]
    },
    {
     "name": "stdout",
     "output_type": "stream",
     "text": [
      "Error (404): Olusola David, Ayibiowu\n"
     ]
    },
    {
     "name": "stderr",
     "output_type": "stream",
     "text": [
      "Processing Artists:  27%|██▋       | 592/2174 [1:44:10<4:38:42, 10.57s/artist]"
     ]
    },
    {
     "name": "stdout",
     "output_type": "stream",
     "text": [
      "Error (404): Georgia O'Keeffe\n"
     ]
    },
    {
     "name": "stderr",
     "output_type": "stream",
     "text": [
      "Processing Artists:  28%|██▊       | 600/2174 [1:45:34<4:44:53, 10.86s/artist]"
     ]
    },
    {
     "name": "stdout",
     "output_type": "stream",
     "text": [
      "Error (404): Stanisław Ignacy Witkiewicz\n"
     ]
    },
    {
     "name": "stderr",
     "output_type": "stream",
     "text": [
      "Processing Artists:  30%|███       | 654/2174 [1:53:41<3:30:57,  8.33s/artist]"
     ]
    },
    {
     "name": "stdout",
     "output_type": "stream",
     "text": [
      "Error (404): Yuri Zlotnikov\n"
     ]
    },
    {
     "name": "stderr",
     "output_type": "stream",
     "text": [
      "Processing Artists:  30%|███       | 660/2174 [1:54:37<3:56:08,  9.36s/artist]"
     ]
    },
    {
     "name": "stdout",
     "output_type": "stream",
     "text": [
      "Error (404): M.F. Husain\n"
     ]
    },
    {
     "name": "stderr",
     "output_type": "stream",
     "text": [
      "Processing Artists:  31%|███▏      | 680/2174 [1:57:42<3:34:43,  8.62s/artist]"
     ]
    },
    {
     "name": "stdout",
     "output_type": "stream",
     "text": [
      "Error (404): Stig Brøgger\n"
     ]
    },
    {
     "name": "stderr",
     "output_type": "stream",
     "text": [
      "Processing Artists:  32%|███▏      | 692/2174 [1:59:35<3:54:55,  9.51s/artist]"
     ]
    },
    {
     "name": "stdout",
     "output_type": "stream",
     "text": [
      "Error (404): Georges Troubat\n"
     ]
    },
    {
     "name": "stderr",
     "output_type": "stream",
     "text": [
      "Processing Artists:  32%|███▏      | 695/2174 [2:00:02<3:41:07,  8.97s/artist]"
     ]
    },
    {
     "name": "stdout",
     "output_type": "stream",
     "text": [
      "Error (404): di Mauro\n"
     ]
    },
    {
     "name": "stderr",
     "output_type": "stream",
     "text": [
      "Processing Artists:  32%|███▏      | 696/2174 [2:00:11<3:37:18,  8.82s/artist]"
     ]
    },
    {
     "name": "stdout",
     "output_type": "stream",
     "text": [
      "Error (404): Goran Despotovski\n"
     ]
    },
    {
     "name": "stderr",
     "output_type": "stream",
     "text": [
      "Processing Artists:  32%|███▏      | 699/2174 [2:00:41<3:49:18,  9.33s/artist]"
     ]
    },
    {
     "name": "stdout",
     "output_type": "stream",
     "text": [
      "Error (404): Babak-Matveev\n"
     ]
    },
    {
     "name": "stderr",
     "output_type": "stream",
     "text": [
      "Processing Artists:  36%|███▌      | 783/2174 [2:14:13<3:34:41,  9.26s/artist]"
     ]
    },
    {
     "name": "stdout",
     "output_type": "stream",
     "text": [
      "Error (404): Włodzimierz Zakrzewski\n"
     ]
    },
    {
     "name": "stderr",
     "output_type": "stream",
     "text": [
      "Processing Artists:  36%|███▌      | 784/2174 [2:14:24<3:43:54,  9.67s/artist]"
     ]
    },
    {
     "name": "stdout",
     "output_type": "stream",
     "text": [
      "Error (404): Vajiha Samadova\n"
     ]
    },
    {
     "name": "stderr",
     "output_type": "stream",
     "text": [
      "Processing Artists:  38%|███▊      | 829/2174 [2:21:43<3:19:53,  8.92s/artist]"
     ]
    },
    {
     "name": "stdout",
     "output_type": "stream",
     "text": [
      "Error (404): Vlady\n"
     ]
    },
    {
     "name": "stderr",
     "output_type": "stream",
     "text": [
      "Processing Artists:  40%|███▉      | 867/2174 [2:28:42<3:33:02,  9.78s/artist]"
     ]
    },
    {
     "name": "stdout",
     "output_type": "stream",
     "text": [
      "Error (404): Rose O'Neill\n"
     ]
    },
    {
     "name": "stderr",
     "output_type": "stream",
     "text": [
      "Processing Artists:  42%|████▏     | 906/2174 [2:35:10<3:12:11,  9.09s/artist]"
     ]
    },
    {
     "name": "stdout",
     "output_type": "stream",
     "text": [
      "Error (404): Carl Holsøe\n"
     ]
    },
    {
     "name": "stderr",
     "output_type": "stream",
     "text": [
      "Processing Artists:  43%|████▎     | 940/2174 [2:40:57<3:06:12,  9.05s/artist]"
     ]
    },
    {
     "name": "stdout",
     "output_type": "stream",
     "text": [
      "Error (404): Chaim Goldberg\n"
     ]
    },
    {
     "name": "stderr",
     "output_type": "stream",
     "text": [
      "Processing Artists:  44%|████▍     | 967/2174 [2:45:28<3:24:08, 10.15s/artist]"
     ]
    },
    {
     "name": "stdout",
     "output_type": "stream",
     "text": [
      "Error (404): YiFei  Chen\n"
     ]
    },
    {
     "name": "stderr",
     "output_type": "stream",
     "text": [
      "Processing Artists:  45%|████▌     | 982/2174 [2:47:49<2:57:21,  8.93s/artist]"
     ]
    },
    {
     "name": "stdout",
     "output_type": "stream",
     "text": [
      "Error (404): Aleksander Belyaev\n"
     ]
    },
    {
     "name": "stderr",
     "output_type": "stream",
     "text": [
      "Processing Artists:  45%|████▌     | 984/2174 [2:48:09<3:04:41,  9.31s/artist]"
     ]
    },
    {
     "name": "stdout",
     "output_type": "stream",
     "text": [
      "Error (404): Goran Vojinovic\n"
     ]
    },
    {
     "name": "stderr",
     "output_type": "stream",
     "text": [
      "Processing Artists:  46%|████▌     | 994/2174 [2:49:48<3:24:08, 10.38s/artist]"
     ]
    },
    {
     "name": "stdout",
     "output_type": "stream",
     "text": [
      "Error (404): Raben Fernan\n"
     ]
    },
    {
     "name": "stderr",
     "output_type": "stream",
     "text": [
      "Processing Artists:  52%|█████▏    | 1123/2174 [3:10:45<2:53:41,  9.92s/artist]"
     ]
    },
    {
     "name": "stdout",
     "output_type": "stream",
     "text": [
      "Error (404): Enrique Silvestre\n"
     ]
    },
    {
     "name": "stderr",
     "output_type": "stream",
     "text": [
      "Processing Artists:  54%|█████▍    | 1177/2174 [3:19:15<2:21:07,  8.49s/artist]"
     ]
    },
    {
     "name": "stdout",
     "output_type": "stream",
     "text": [
      "Error (404): George Grosz\n"
     ]
    },
    {
     "name": "stderr",
     "output_type": "stream",
     "text": [
      "Processing Artists:  57%|█████▋    | 1245/2174 [3:29:54<2:29:48,  9.68s/artist]"
     ]
    },
    {
     "name": "stdout",
     "output_type": "stream",
     "text": [
      "Error (404): Yun Hyong–keun\n"
     ]
    },
    {
     "name": "stderr",
     "output_type": "stream",
     "text": [
      "Processing Artists:  58%|█████▊    | 1252/2174 [3:31:01<2:19:13,  9.06s/artist]"
     ]
    },
    {
     "name": "stdout",
     "output_type": "stream",
     "text": [
      "Error (404): Ilse D'Hollander\n"
     ]
    },
    {
     "name": "stderr",
     "output_type": "stream",
     "text": [
      "Processing Artists:  60%|█████▉    | 1298/2174 [3:38:09<2:19:27,  9.55s/artist]"
     ]
    },
    {
     "name": "stdout",
     "output_type": "stream",
     "text": [
      "Error (404): Robert De Niro, Sr.\n"
     ]
    },
    {
     "name": "stderr",
     "output_type": "stream",
     "text": [
      "Processing Artists:  60%|██████    | 1306/2174 [3:39:23<2:01:48,  8.42s/artist]"
     ]
    },
    {
     "name": "stdout",
     "output_type": "stream",
     "text": [
      "Error (404): Zani Corrado\n"
     ]
    },
    {
     "name": "stderr",
     "output_type": "stream",
     "text": [
      "Processing Artists:  65%|██████▍   | 1404/2174 [3:54:11<1:53:40,  8.86s/artist]"
     ]
    },
    {
     "name": "stdout",
     "output_type": "stream",
     "text": [
      "Error (404): Hifa Cybe\n"
     ]
    },
    {
     "name": "stderr",
     "output_type": "stream",
     "text": [
      "Processing Artists:  65%|██████▍   | 1411/2174 [3:55:17<2:07:49, 10.05s/artist]"
     ]
    },
    {
     "name": "stdout",
     "output_type": "stream",
     "text": [
      "Error (404): Petro Kholodny (Elder)\n"
     ]
    },
    {
     "name": "stderr",
     "output_type": "stream",
     "text": [
      "Processing Artists:  71%|███████   | 1539/2174 [4:14:17<1:36:52,  9.15s/artist]"
     ]
    },
    {
     "name": "stdout",
     "output_type": "stream",
     "text": [
      "Error (404): Christian Attersee\n"
     ]
    },
    {
     "name": "stderr",
     "output_type": "stream",
     "text": [
      "Processing Artists:  77%|███████▋  | 1674/2174 [4:34:19<1:20:15,  9.63s/artist]"
     ]
    },
    {
     "name": "stdout",
     "output_type": "stream",
     "text": [
      "Error (404): Allan D'Arcangelo\n"
     ]
    },
    {
     "name": "stderr",
     "output_type": "stream",
     "text": [
      "Processing Artists:  77%|███████▋  | 1676/2174 [4:34:38<1:16:56,  9.27s/artist]"
     ]
    },
    {
     "name": "stdout",
     "output_type": "stream",
     "text": [
      "Error (404): Yuriy Khymych\n"
     ]
    },
    {
     "name": "stderr",
     "output_type": "stream",
     "text": [
      "Processing Artists:  78%|███████▊  | 1694/2174 [4:37:18<1:09:15,  8.66s/artist]"
     ]
    },
    {
     "name": "stdout",
     "output_type": "stream",
     "text": [
      "Error (404): Varnette Honeywood\n"
     ]
    },
    {
     "name": "stderr",
     "output_type": "stream",
     "text": [
      "Processing Artists:  80%|███████▉  | 1733/2174 [4:43:09<1:04:14,  8.74s/artist]"
     ]
    },
    {
     "name": "stdout",
     "output_type": "stream",
     "text": [
      "Error (404): Iain Baxter&\n"
     ]
    },
    {
     "name": "stderr",
     "output_type": "stream",
     "text": [
      "Processing Artists:  81%|████████  | 1759/2174 [4:47:01<56:13,  8.13s/artist]  "
     ]
    },
    {
     "name": "stdout",
     "output_type": "stream",
     "text": [
      "Error (404): Bernd and Hilla Becher\n"
     ]
    },
    {
     "name": "stderr",
     "output_type": "stream",
     "text": [
      "Processing Artists:  83%|████████▎ | 1799/2174 [4:52:57<49:50,  7.97s/artist]  "
     ]
    },
    {
     "name": "stdout",
     "output_type": "stream",
     "text": [
      "Error (404): Robert Ryman\n"
     ]
    },
    {
     "name": "stderr",
     "output_type": "stream",
     "text": [
      "Processing Artists:  86%|████████▌ | 1875/2174 [5:04:15<46:53,  9.41s/artist]"
     ]
    },
    {
     "name": "stdout",
     "output_type": "stream",
     "text": [
      "Error (404): Jorge Pardo\n"
     ]
    },
    {
     "name": "stderr",
     "output_type": "stream",
     "text": [
      "Processing Artists:  88%|████████▊ | 1923/2174 [5:11:39<39:51,  9.53s/artist]"
     ]
    },
    {
     "name": "stdout",
     "output_type": "stream",
     "text": [
      "Error (404): Georg Miciú\n"
     ]
    },
    {
     "name": "stderr",
     "output_type": "stream",
     "text": [
      "Processing Artists:  90%|█████████ | 1961/2174 [5:17:29<35:54, 10.11s/artist]"
     ]
    },
    {
     "name": "stdout",
     "output_type": "stream",
     "text": [
      "Error (404): Laolu Senbanjo\n"
     ]
    },
    {
     "name": "stderr",
     "output_type": "stream",
     "text": [
      "Processing Artists:  91%|█████████▏| 1988/2174 [5:21:30<26:50,  8.66s/artist]"
     ]
    },
    {
     "name": "stdout",
     "output_type": "stream",
     "text": [
      "Error (404): Miss.Tic\n"
     ]
    },
    {
     "name": "stderr",
     "output_type": "stream",
     "text": [
      "Processing Artists:  94%|█████████▍| 2050/2174 [5:30:28<19:48,  9.58s/artist]"
     ]
    },
    {
     "name": "stdout",
     "output_type": "stream",
     "text": [
      "Error (404): Luis Álvarez Roure\n"
     ]
    },
    {
     "name": "stderr",
     "output_type": "stream",
     "text": [
      "Processing Artists:  96%|█████████▌| 2083/2174 [5:35:38<13:40,  9.02s/artist]"
     ]
    },
    {
     "name": "stdout",
     "output_type": "stream",
     "text": [
      "Error (404): Shin Yoon-bok\n"
     ]
    },
    {
     "name": "stderr",
     "output_type": "stream",
     "text": [
      "Processing Artists:  98%|█████████▊| 2130/2174 [5:43:30<07:24, 10.11s/artist]"
     ]
    }
   ],
   "source": [
    "\n",
    "artist_data = []\n",
    "not_exist = []\n",
    "artworks_data = []\n",
    "\n",
    "for artist in tqdm(unique_artists, desc=\"Processing Artists\", unit=\"artist\"):\n",
    "    artist_info = extract_artist_info(artist)\n",
    "    if isinstance(artist_info, dict):\n",
    "        artist_data.append(artist_info)\n",
    "        time.sleep(random.randint(3, 5))\n",
    "        artworks_data = artworks_data + extract_artist_work(artist)\n",
    "        time.sleep(random.randint(1, 3))\n",
    "    else:\n",
    "        not_exist.append(artist_info)\n"
   ]
  },
  {
   "cell_type": "markdown",
   "metadata": {},
   "source": [
    "## Save into csv files"
   ]
  },
  {
   "cell_type": "code",
   "execution_count": 11,
   "metadata": {},
   "outputs": [],
   "source": [
    "def extract_all_keys(dict_list):\n",
    "    \"\"\"\n",
    "    Extract all unique keys from a list of dictionaries.\n",
    "    Ensures that different dictionaries with different keys are fully accounted for.\n",
    "    \"\"\"\n",
    "    ordered_keys = []\n",
    "    seen_keys = set()\n",
    "    \n",
    "    for dictionary in dict_list:\n",
    "        for key in dictionary.keys():\n",
    "            if key not in seen_keys:\n",
    "                ordered_keys.append(key)\n",
    "                seen_keys.add(key)\n",
    "                \n",
    "    return ordered_keys"
   ]
  },
  {
   "cell_type": "code",
   "execution_count": 52,
   "metadata": {},
   "outputs": [
    {
     "name": "stderr",
     "output_type": "stream",
     "text": [
      "Saving artist info: 100%|██████████| 878/878 [00:00<00:00, 30261.64artist/s]\n"
     ]
    }
   ],
   "source": [
    "all_keys_artist = extract_all_keys(artist_data)\n",
    "\n",
    "with open(\"artist_data/artist_data_new.csv\", mode='w', encoding='utf-8', newline='') as file:\n",
    "    writer = csv.DictWriter(file, fieldnames=all_keys_artist)\n",
    "\n",
    "    writer.writeheader()\n",
    "\n",
    "    for artist in tqdm(artist_data, desc=\"Saving artist info\", unit=\"artist\"):\n",
    "        writer.writerow({key: artist.get(key, \"\") for key in all_keys_artist})"
   ]
  },
  {
   "cell_type": "code",
   "execution_count": null,
   "metadata": {},
   "outputs": [
    {
     "name": "stderr",
     "output_type": "stream",
     "text": [
      "Saving artwork info: 100%|██████████| 80693/80693 [00:00<00:00, 91055.27artwork/s]\n"
     ]
    }
   ],
   "source": [
    "all_keys_artworks = extract_all_keys(artworks_data)\n",
    "\n",
    "with open(\"artist_data/artist_artwork.csv\", mode='w', encoding='utf-8', newline='') as file:\n",
    "    writer = csv.DictWriter(file, fieldnames=all_keys_artworks)\n",
    "\n",
    "    writer.writeheader()\n",
    "\n",
    "    for artist in tqdm(artworks_data, desc=\"Saving artwork info\", unit=\"artwork\"):\n",
    "        writer.writerow({key: artist.get(key, \"\") for key in all_keys_artworks})"
   ]
  },
  {
   "cell_type": "markdown",
   "metadata": {},
   "source": [
    "## Re-scraping for not found items"
   ]
  },
  {
   "cell_type": "code",
   "execution_count": null,
   "metadata": {},
   "outputs": [],
   "source": [
    "with open(\"to_search.csv\", mode='w', encoding='utf-8', newline='') as file:\n",
    "    writer = csv.DictWriter(file, fieldnames=[\"name\", \"url\"])\n",
    "\n",
    "    writer.writeheader()\n",
    "\n",
    "    for artist in not_exist:\n",
    "        writer.writerow({\"name\": artist})\n"
   ]
  },
  {
   "cell_type": "markdown",
   "metadata": {},
   "source": [
    "Code the urls by human"
   ]
  },
  {
   "cell_type": "code",
   "execution_count": 42,
   "metadata": {},
   "outputs": [
    {
     "name": "stderr",
     "output_type": "stream",
     "text": [
      "Processing Artists: 100%|██████████| 4/4 [00:18<00:00,  4.66s/artist]\n"
     ]
    }
   ],
   "source": [
    "with open(\"to_search_completed.csv\", mode='r', encoding='utf-8', newline='') as file:\n",
    "    reader = csv.reader(file)\n",
    "    lines = [(row[0], row[1]) for row in reader][1:]\n",
    "\n",
    "\n",
    "artist_data_notfound = []\n",
    "not_exist_notfound = []\n",
    "artworks_data_notfound = []\n",
    "\n",
    "for artist, url in tqdm(lines, desc=\"Processing Artists\", unit=\"artist\"):\n",
    "    artist_info = extract_artist_info(artist, url)\n",
    "    if isinstance(artist_info, dict):\n",
    "        artist_data_notfound.append(artist_info)\n",
    "        time.sleep(1)\n",
    "        artworks_data_notfound = artworks_data_notfound + extract_artist_work(artist, url)\n",
    "        time.sleep(1)\n",
    "    else:\n",
    "        not_exist_notfound.append(artist_info)"
   ]
  },
  {
   "cell_type": "code",
   "execution_count": 44,
   "metadata": {},
   "outputs": [
    {
     "name": "stderr",
     "output_type": "stream",
     "text": [
      "Saving artist info: 100%|██████████| 4/4 [00:00<00:00, 10149.56artist/s]\n"
     ]
    }
   ],
   "source": [
    "all_keys_artist = extract_all_keys(artist_data_notfound)\n",
    "\n",
    "with open(\"artist_data/artist_data_notfound.csv\", mode='w', encoding='utf-8', newline='') as file:\n",
    "    writer = csv.DictWriter(file, fieldnames=all_keys_artist)\n",
    "\n",
    "    writer.writeheader()\n",
    "\n",
    "    for artist in tqdm(artist_data_notfound, desc=\"Saving artist info\", unit=\"artist\"):\n",
    "        writer.writerow({key: artist.get(key, \"\") for key in all_keys_artist})\n",
    "\n",
    "#deleted after merging"
   ]
  },
  {
   "cell_type": "code",
   "execution_count": 43,
   "metadata": {},
   "outputs": [
    {
     "name": "stderr",
     "output_type": "stream",
     "text": [
      "Saving artwork info: 100%|██████████| 40/40 [00:00<00:00, 56660.64artwork/s]\n"
     ]
    }
   ],
   "source": [
    "all_keys_artworks = extract_all_keys(artworks_data_notfound)\n",
    "\n",
    "with open(\"artist_data/artist_artwork_notfound.csv\", mode='w', encoding='utf-8', newline='') as file:\n",
    "    writer = csv.DictWriter(file, fieldnames=all_keys_artworks)\n",
    "\n",
    "    writer.writeheader()\n",
    "\n",
    "    for artist in tqdm(artworks_data_notfound, desc=\"Saving artwork info\", unit=\"artwork\"):\n",
    "        writer.writerow({key: artist.get(key, \"\") for key in all_keys_artworks})\n",
    "\n",
    "#deleted after merging"
   ]
  }
 ],
 "metadata": {
  "kernelspec": {
   "display_name": ".venv",
   "language": "python",
   "name": "python3"
  },
  "language_info": {
   "codemirror_mode": {
    "name": "ipython",
    "version": 3
   },
   "file_extension": ".py",
   "mimetype": "text/x-python",
   "name": "python",
   "nbconvert_exporter": "python",
   "pygments_lexer": "ipython3",
   "version": "3.10.0"
  }
 },
 "nbformat": 4,
 "nbformat_minor": 2
}
