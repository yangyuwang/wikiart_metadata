{
 "cells": [
  {
   "cell_type": "markdown",
   "metadata": {},
   "source": [
    "# Scraping Wikipedia by Requests\n",
    "\n",
    "### Author: Yangyu Wang\n",
    "### Date: Jan 24, 2025"
   ]
  },
  {
   "cell_type": "code",
   "execution_count": 7,
   "metadata": {},
   "outputs": [],
   "source": [
    "from bs4 import BeautifulSoup\n",
    "import requests\n",
    "import pandas as pd\n",
    "from tqdm import tqdm\n",
    "import re\n",
    "import os"
   ]
  },
  {
   "cell_type": "code",
   "execution_count": 2,
   "metadata": {},
   "outputs": [],
   "source": [
    "data = pd.read_csv(\"artist_data/artist_data_new.csv\")\n",
    "url_list = data[\"Wikipedia\"]\n",
    "url_name = data[\"url_name\"]"
   ]
  },
  {
   "cell_type": "code",
   "execution_count": 12,
   "metadata": {},
   "outputs": [],
   "source": [
    "def scrape_wikipedia(url, html_filename, text_filename):\n",
    "    headers = {\"User-Agent\": \"Mozilla/5.0\"}  # User-Agent to prevent blocking\n",
    "    response = requests.get(url, headers=headers)\n",
    "\n",
    "    if response.status_code == 200:\n",
    "        # Save full HTML\n",
    "        with open(html_filename, \"w\", encoding=\"utf-8\") as file:\n",
    "            file.write(response.text)\n",
    "\n",
    "        # Parse HTML\n",
    "        soup = BeautifulSoup(response.text, \"html.parser\")\n",
    "\n",
    "        # Extract main content\n",
    "        content_div = soup.find(\"div\", {\"id\": \"mw-content-text\"})\n",
    "        if content_div:\n",
    "            paragraphs = content_div.find_all(\"p\")  # Extract only paragraphs\n",
    "            raw_text = \"\\n\".join([p.get_text() for p in paragraphs])\n",
    "\n",
    "            # Save extracted text\n",
    "            with open(text_filename, \"w\", encoding=\"utf-8\") as text_file:\n",
    "                text_file.write(raw_text)\n",
    "\n",
    "    else:\n",
    "        print(f\"Failed to retrieve the page: {url}. Status code: {response.status_code}\")"
   ]
  },
  {
   "cell_type": "code",
   "execution_count": 16,
   "metadata": {},
   "outputs": [
    {
     "data": {
      "text/plain": [
       "'http://mironov-art.com/'"
      ]
     },
     "execution_count": 16,
     "metadata": {},
     "output_type": "execute_result"
    }
   ],
   "source": [
    "url"
   ]
  },
  {
   "cell_type": "code",
   "execution_count": 18,
   "metadata": {},
   "outputs": [
    {
     "name": "stderr",
     "output_type": "stream",
     "text": [
      "  0%|          | 0/3048 [00:00<?, ?it/s]"
     ]
    },
    {
     "name": "stderr",
     "output_type": "stream",
     "text": [
      "  7%|▋         | 216/3048 [00:00<00:02, 989.27it/s]"
     ]
    },
    {
     "name": "stdout",
     "output_type": "stream",
     "text": [
      "Failed to retrieve the page: https://en.wikipedia.org/wiki/Artemisia_Gentileschi,. Status code: 404\n",
      "HTTPConnectionPool(host='mironov-art.com', port=80): Max retries exceeded with url: / (Caused by NameResolutionError(\"<urllib3.connection.HTTPConnection object at 0x10ded0760>: Failed to resolve 'mironov-art.com' ([Errno 8] nodename nor servname provided, or not known)\")): Wrong URL http://mironov-art.com/\n"
     ]
    },
    {
     "name": "stderr",
     "output_type": "stream",
     "text": [
      " 45%|████▌     | 1384/3048 [00:00<00:01, 1574.71it/s]"
     ]
    },
    {
     "name": "stdout",
     "output_type": "stream",
     "text": [
      "Failed to retrieve the page: https://mn.wikipedia.org/wiki/%D0%A1.%D0%97%D0%B0%D1%8F%D0%B0%D1%81%D0%B0%D0%B9%D1%85%D0%B0%D0%BD. Status code: 404\n"
     ]
    },
    {
     "name": "stderr",
     "output_type": "stream",
     "text": [
      " 49%|████▉     | 1501/3048 [01:20<06:01,  4.28it/s]  "
     ]
    },
    {
     "name": "stdout",
     "output_type": "stream",
     "text": [
      "HTTPConnectionPool(host='www.ion-alin-gheorghiu.ro', port=80): Max retries exceeded with url: / (Caused by NameResolutionError(\"<urllib3.connection.HTTPConnection object at 0x10dc51870>: Failed to resolve 'www.ion-alin-gheorghiu.ro' ([Errno 8] nodename nor servname provided, or not known)\")): Wrong URL http://www.ion-alin-gheorghiu.ro/\n"
     ]
    },
    {
     "name": "stderr",
     "output_type": "stream",
     "text": [
      " 50%|█████     | 1536/3048 [01:42<09:24,  2.68it/s]"
     ]
    },
    {
     "name": "stdout",
     "output_type": "stream",
     "text": [
      "Failed to retrieve the page: https://en.wikipedia.org/wiki/Dana_Levin_(artist). Status code: 404\n"
     ]
    },
    {
     "name": "stderr",
     "output_type": "stream",
     "text": [
      " 53%|█████▎    | 1618/3048 [02:36<22:26,  1.06it/s]"
     ]
    },
    {
     "name": "stdout",
     "output_type": "stream",
     "text": [
      "HTTPConnectionPool(host='sergeyryabchenko.com', port=80): Max retries exceeded with url: / (Caused by NameResolutionError(\"<urllib3.connection.HTTPConnection object at 0x10dc51060>: Failed to resolve 'sergeyryabchenko.com' ([Errno 8] nodename nor servname provided, or not known)\")): Wrong URL http://sergeyryabchenko.com/\n"
     ]
    },
    {
     "name": "stderr",
     "output_type": "stream",
     "text": [
      " 59%|█████▉    | 1806/3048 [04:37<14:46,  1.40it/s]"
     ]
    },
    {
     "name": "stdout",
     "output_type": "stream",
     "text": [
      "Failed to retrieve the page: https://en.wikipedia.org/wiki/Andrey_Shishkin. Status code: 404\n"
     ]
    },
    {
     "name": "stderr",
     "output_type": "stream",
     "text": [
      " 59%|█████▉    | 1807/3048 [04:38<15:59,  1.29it/s]"
     ]
    },
    {
     "name": "stdout",
     "output_type": "stream",
     "text": [
      "Failed to retrieve the page: http://www.rolf-ohst.de/de/index.php. Status code: 500\n"
     ]
    },
    {
     "name": "stderr",
     "output_type": "stream",
     "text": [
      " 66%|██████▌   | 2005/3048 [06:35<13:20,  1.30it/s]"
     ]
    },
    {
     "name": "stdout",
     "output_type": "stream",
     "text": [
      "Failed to retrieve the page: http://www.phillipscollection.org/research/american_art/bios/knaths-bio.htm. Status code: 404\n"
     ]
    },
    {
     "name": "stderr",
     "output_type": "stream",
     "text": [
      " 67%|██████▋   | 2031/3048 [06:50<10:25,  1.63it/s]"
     ]
    },
    {
     "name": "stdout",
     "output_type": "stream",
     "text": [
      "Failed to retrieve the page: https://massholder.jimdo.com/eric-massholder/. Status code: 404\n"
     ]
    },
    {
     "name": "stderr",
     "output_type": "stream",
     "text": [
      " 69%|██████▉   | 2118/3048 [07:38<09:16,  1.67it/s]"
     ]
    },
    {
     "name": "stdout",
     "output_type": "stream",
     "text": [
      "Failed to retrieve the page: https://en.wikipedia.org/wiki/Santa_Monica_College_of_Design,_Art_and_Architecture. Status code: 404\n"
     ]
    },
    {
     "name": "stderr",
     "output_type": "stream",
     "text": [
      " 70%|██████▉   | 2123/3048 [07:42<12:21,  1.25it/s]"
     ]
    },
    {
     "name": "stdout",
     "output_type": "stream",
     "text": [
      "HTTPConnectionPool(host='www.carmendelaco.cm', port=80): Max retries exceeded with url: / (Caused by NameResolutionError(\"<urllib3.connection.HTTPConnection object at 0x10cf6f3a0>: Failed to resolve 'www.carmendelaco.cm' ([Errno 8] nodename nor servname provided, or not known)\")): Wrong URL http://www.carmendelaco.cm/\n"
     ]
    },
    {
     "name": "stderr",
     "output_type": "stream",
     "text": [
      " 76%|███████▌  | 2324/3048 [09:33<06:22,  1.89it/s]"
     ]
    },
    {
     "name": "stdout",
     "output_type": "stream",
     "text": [
      "HTTPConnectionPool(host='www.raullozza.coop', port=80): Max retries exceeded with url: / (Caused by NameResolutionError(\"<urllib3.connection.HTTPConnection object at 0x10d57ad10>: Failed to resolve 'www.raullozza.coop' ([Errno 8] nodename nor servname provided, or not known)\")): Wrong URL http://www.raullozza.coop/\n"
     ]
    },
    {
     "name": "stderr",
     "output_type": "stream",
     "text": [
      " 79%|███████▉  | 2403/3048 [10:16<08:00,  1.34it/s]"
     ]
    },
    {
     "name": "stdout",
     "output_type": "stream",
     "text": [
      "Failed to retrieve the page: https://en.wikipedia.org/wiki/Joan_Tuset_Suau. Status code: 404\n"
     ]
    },
    {
     "name": "stderr",
     "output_type": "stream",
     "text": [
      " 81%|████████  | 2476/3048 [10:56<05:31,  1.72it/s]"
     ]
    },
    {
     "name": "stdout",
     "output_type": "stream",
     "text": [
      "Failed to retrieve the page: https://en.wikipedia.org/wiki/Deborah_Azzopardi. Status code: 404\n"
     ]
    },
    {
     "name": "stderr",
     "output_type": "stream",
     "text": [
      " 85%|████████▌ | 2605/3048 [12:11<05:45,  1.28it/s]"
     ]
    },
    {
     "name": "stdout",
     "output_type": "stream",
     "text": [
      "HTTPConnectionPool(host='amirbaradaran.com', port=80): Max retries exceeded with url: / (Caused by NameResolutionError(\"<urllib3.connection.HTTPConnection object at 0x10d3ded70>: Failed to resolve 'amirbaradaran.com' ([Errno 8] nodename nor servname provided, or not known)\")): Wrong URL http://amirbaradaran.com/\n"
     ]
    },
    {
     "name": "stderr",
     "output_type": "stream",
     "text": [
      " 89%|████████▊ | 2702/3048 [13:03<02:48,  2.06it/s]"
     ]
    },
    {
     "name": "stdout",
     "output_type": "stream",
     "text": [
      "Failed to retrieve the page: http://www.tosatti.org/. Status code: 999\n"
     ]
    },
    {
     "name": "stderr",
     "output_type": "stream",
     "text": [
      " 89%|████████▉ | 2724/3048 [13:15<04:12,  1.28it/s]"
     ]
    },
    {
     "name": "stdout",
     "output_type": "stream",
     "text": [
      "HTTPConnectionPool(host='josehiguera.es', port=80): Max retries exceeded with url: /www-josehiguera-es/ (Caused by NameResolutionError(\"<urllib3.connection.HTTPConnection object at 0x10def6a40>: Failed to resolve 'josehiguera.es' ([Errno 8] nodename nor servname provided, or not known)\")): Wrong URL http://josehiguera.es/www-josehiguera-es/\n"
     ]
    },
    {
     "name": "stderr",
     "output_type": "stream",
     "text": [
      " 90%|████████▉ | 2736/3048 [13:20<02:30,  2.08it/s]"
     ]
    },
    {
     "name": "stdout",
     "output_type": "stream",
     "text": [
      "HTTPConnectionPool(host='janespaintingsonline.co.uk', port=80): Max retries exceeded with url: / (Caused by NameResolutionError(\"<urllib3.connection.HTTPConnection object at 0x10d89f160>: Failed to resolve 'janespaintingsonline.co.uk' ([Errno 8] nodename nor servname provided, or not known)\")): Wrong URL http://janespaintingsonline.co.uk/\n"
     ]
    },
    {
     "name": "stderr",
     "output_type": "stream",
     "text": [
      " 92%|█████████▏| 2790/3048 [13:45<01:27,  2.95it/s]"
     ]
    },
    {
     "name": "stdout",
     "output_type": "stream",
     "text": [
      "Failed to retrieve the page: https://en.wikipedia.org/wiki/Silviu_Oravitzan. Status code: 404\n"
     ]
    },
    {
     "name": "stderr",
     "output_type": "stream",
     "text": [
      " 95%|█████████▍| 2885/3048 [14:42<01:37,  1.67it/s]"
     ]
    },
    {
     "name": "stdout",
     "output_type": "stream",
     "text": [
      "Failed to retrieve the page: https://dayoustudio.artmajeur.com/. Status code: 403\n"
     ]
    },
    {
     "name": "stderr",
     "output_type": "stream",
     "text": [
      " 95%|█████████▌| 2899/3048 [14:50<01:29,  1.67it/s]"
     ]
    },
    {
     "name": "stdout",
     "output_type": "stream",
     "text": [
      "HTTPSConnectionPool(host='www.myjapanesehanga.com', port=443): Max retries exceeded with url: /home/artists/asano-takeji-1900-1999 (Caused by SSLError(SSLCertVerificationError(1, '[SSL: CERTIFICATE_VERIFY_FAILED] certificate verify failed: certificate has expired (_ssl.c:997)'))): Wrong URL http://www.myjapanesehanga.com/home/artists/asano-takeji-1900-1999\n"
     ]
    },
    {
     "name": "stderr",
     "output_type": "stream",
     "text": [
      " 98%|█████████▊| 2977/3048 [15:43<00:41,  1.70it/s]"
     ]
    },
    {
     "name": "stdout",
     "output_type": "stream",
     "text": [
      "Failed to retrieve the page: http://www.artmajeur.com/fr/member/gregoire-koboyan. Status code: 403\n"
     ]
    },
    {
     "name": "stderr",
     "output_type": "stream",
     "text": [
      " 99%|█████████▉| 3021/3048 [16:12<00:21,  1.25it/s]"
     ]
    },
    {
     "name": "stdout",
     "output_type": "stream",
     "text": [
      "Failed to retrieve the page: http://www.babak-matveev.com/UA/apt.html. Status code: 404\n"
     ]
    },
    {
     "name": "stderr",
     "output_type": "stream",
     "text": [
      " 99%|█████████▉| 3027/3048 [16:16<00:13,  1.58it/s]"
     ]
    },
    {
     "name": "stdout",
     "output_type": "stream",
     "text": [
      "HTTPConnectionPool(host='belyaev.fineart.name', port=80): Max retries exceeded with url: / (Caused by NameResolutionError(\"<urllib3.connection.HTTPConnection object at 0x10dd97640>: Failed to resolve 'belyaev.fineart.name' ([Errno 8] nodename nor servname provided, or not known)\")): Wrong URL http://belyaev.fineart.name/\n",
      "HTTPSConnectionPool(host='www.gallery-vog.com', port=443): Max retries exceeded with url: / (Caused by NameResolutionError(\"<urllib3.connection.HTTPSConnection object at 0x10c40fe80>: Failed to resolve 'www.gallery-vog.com' ([Errno 8] nodename nor servname provided, or not known)\")): Wrong URL https://www.gallery-vog.com/\n"
     ]
    },
    {
     "name": "stderr",
     "output_type": "stream",
     "text": [
      " 99%|█████████▉| 3030/3048 [16:17<00:07,  2.49it/s]"
     ]
    },
    {
     "name": "stdout",
     "output_type": "stream",
     "text": [
      "Failed to retrieve the page: https://en.wikipedia.org/wiki/Draft:Enrique_Silvestre. Status code: 404\n"
     ]
    },
    {
     "name": "stderr",
     "output_type": "stream",
     "text": [
      " 99%|█████████▉| 3032/3048 [16:17<00:05,  3.08it/s]"
     ]
    },
    {
     "name": "stdout",
     "output_type": "stream",
     "text": [
      "Failed to retrieve the page: http://ilsedhollander.org/. Status code: 404\n"
     ]
    },
    {
     "name": "stderr",
     "output_type": "stream",
     "text": [
      "100%|██████████| 3048/3048 [16:26<00:00,  3.09it/s]\n"
     ]
    }
   ],
   "source": [
    "folderlist = os.listdir(\"artist_wikipedia/\")\n",
    "\n",
    "for n in tqdm(range(len(url_list))):\n",
    "    url = url_list[n]\n",
    "    \n",
    "    if str(url) != \"nan\":\n",
    "        if \"en/\" in url_name[n]:\n",
    "            screen_name = re.sub(\"en/\", \"\", url_name[n])\n",
    "        else:\n",
    "            screen_name = url_name[n]\n",
    "        \n",
    "        if screen_name+\".html\" not in folderlist:\n",
    "            try:\n",
    "                scrape_wikipedia(url, f\"artist_wikipedia/{screen_name}.html\", f\"artist_wikipedia_content/{screen_name}.txt\")\n",
    "            except Exception as e:\n",
    "                print(f\"{e}: Wrong URL {url}\")"
   ]
  }
 ],
 "metadata": {
  "kernelspec": {
   "display_name": ".venv",
   "language": "python",
   "name": "python3"
  },
  "language_info": {
   "codemirror_mode": {
    "name": "ipython",
    "version": 3
   },
   "file_extension": ".py",
   "mimetype": "text/x-python",
   "name": "python",
   "nbconvert_exporter": "python",
   "pygments_lexer": "ipython3",
   "version": "3.10.0"
  }
 },
 "nbformat": 4,
 "nbformat_minor": 2
}
